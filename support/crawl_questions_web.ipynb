{
 "cells": [
  {
   "cell_type": "markdown",
   "metadata": {},
   "source": [
    "# Crawl Questions from web"
   ]
  },
  {
   "cell_type": "code",
   "execution_count": 1,
   "metadata": {},
   "outputs": [],
   "source": [
    "WEB_URL = 'http://zbranekvalitne.cz/zbrojni-prukaz/testove-otazky'\n",
    "IMG_BASE_URL = 'http://zbranekvalitne.cz/'"
   ]
  },
  {
   "cell_type": "code",
   "execution_count": 2,
   "metadata": {},
   "outputs": [],
   "source": [
    "import requests\n",
    "from bs4 import BeautifulSoup\n",
    "import dataclasses\n",
    "\n",
    "soup = BeautifulSoup(requests.get(WEB_URL).text)\n"
   ]
  },
  {
   "cell_type": "code",
   "execution_count": 3,
   "metadata": {},
   "outputs": [],
   "source": [
    "from dataclasses import dataclass\n",
    "\n",
    "@dataclass\n",
    "class Question:\n",
    "    id: int\n",
    "    question: str\n",
    "    options: dict\n",
    "    correct: list\n",
    "    image: str = None"
   ]
  },
  {
   "cell_type": "code",
   "execution_count": 4,
   "metadata": {},
   "outputs": [],
   "source": [
    "questions_div = soup.find('div', {'id': 'questions'})\n",
    "questions = []\n",
    "for idx, question_segment in enumerate(questions_div.find_all('div', {'class': 'ui raised segment'})):\n",
    "    question_rows= question_segment.find_all('div', {'class': 'row'})\n",
    "    # Question\n",
    "    if len(question_rows) == 4:\n",
    "        # Question and 3 options\n",
    "        question_image = None\n",
    "        question_text = question_rows[0].text\n",
    "        answ_idx = 1\n",
    "    elif len(question_rows) == 5:\n",
    "        # Image, question and 3 options\n",
    "        question_image = question_rows[0].find('img')['src']\n",
    "        question_text = question_rows[1].text\n",
    "        answ_idx = 2\n",
    "    # Downlaod image\n",
    "    if question_image:\n",
    "        image_url = IMG_BASE_URL + question_image\n",
    "        image_data = requests.get(image_url)\n",
    "        image_format = image_url.split('.')[-1]\n",
    "        question_image = f'{idx}.{image_format}'\n",
    "        with open(f'data/output/images/{question_image}', 'wb') as f:\n",
    "            f.write(image_data.content)\n",
    "    # Answers\n",
    "    options = {}\n",
    "    correct_option = 'a'\n",
    "    for ans_letter, ans_div in zip(['a', 'b', 'c'],question_rows[answ_idx:]):\n",
    "        if 'correct-answer' in ans_div['class']:\n",
    "            correct_option = ans_letter\n",
    "        options[ans_letter] = ans_div.find('p', {'class': 'fifteen wide column'}).text[:-1]\n",
    "    questions.append(Question(id=idx, question=question_text, options=options, correct=correct_option, image=question_image))"
   ]
  },
  {
   "cell_type": "code",
   "execution_count": 5,
   "metadata": {},
   "outputs": [],
   "source": [
    "import json\n",
    "with open('data/output/questions.json', 'w', encoding='utf8') as f:\n",
    "    json.dump([dataclasses.asdict(x) for x in questions], f, indent=2, ensure_ascii=False)"
   ]
  },
  {
   "cell_type": "code",
   "execution_count": null,
   "metadata": {},
   "outputs": [],
   "source": []
  }
 ],
 "metadata": {
  "interpreter": {
   "hash": "b0fa6594d8f4cbf19f97940f81e996739fb7646882a419484c72d19e05852a7e"
  },
  "kernelspec": {
   "display_name": "Python 3.9.9 64-bit",
   "language": "python",
   "name": "python3"
  },
  "language_info": {
   "codemirror_mode": {
    "name": "ipython",
    "version": 3
   },
   "file_extension": ".py",
   "mimetype": "text/x-python",
   "name": "python",
   "nbconvert_exporter": "python",
   "pygments_lexer": "ipython3",
   "version": "3.9.9"
  },
  "orig_nbformat": 4
 },
 "nbformat": 4,
 "nbformat_minor": 2
}
