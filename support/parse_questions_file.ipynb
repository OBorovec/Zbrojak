{
 "cells": [
  {
   "cell_type": "markdown",
   "metadata": {},
   "source": [
    "# Parsing PDF file with questions"
   ]
  },
  {
   "cell_type": "code",
   "execution_count": 29,
   "metadata": {},
   "outputs": [],
   "source": [
    "FILE_PATH = \"data/Souhrn_testovych_otazek_pro_zadatele_o_vydani_ZP_k_pouziti_od_30-01-2021_-_20210406.pdf\""
   ]
  },
  {
   "cell_type": "code",
   "execution_count": 34,
   "metadata": {},
   "outputs": [
    {
     "name": "stdout",
     "output_type": "stream",
     "text": [
      "{'/Producer': 'GPL Ghostscript 9.52', '/CreationDate': \"D:20210406113728+02'00'\", '/ModDate': \"D:20210406113728+02'00'\", '/Title': 'Soubor testových otázek pro teoretickou část zkoušky odborné způsobilosti žadatele o vydání zbrojního průkazu skupiny A až E', '/Author': 'Uzivatel', '/Subject': '', '/Keywords': '', '/Creator': 'PDFCreator Free 4.1.2'}\n",
      "{'/Type': '/Page', '/MediaBox': [0, 0, 595, 842], '/Rotate': 0, '/Parent': IndirectObject(3, 0), '/Resources': {'/ProcSet': ['/PDF', '/ImageC', '/ImageI', '/Text'], '/ColorSpace': IndirectObject(19, 0), '/XObject': IndirectObject(20, 0), '/Font': IndirectObject(21, 0)}, '/Contents': IndirectObject(5, 0)}\n"
     ]
    }
   ],
   "source": [
    "from PyPDF2 import PdfFileReader\n",
    "\n",
    "with open(FILE_PATH, 'rb') as f:\n",
    "        pdf = PdfFileReader(f)\n",
    "        information = pdf.getDocumentInfo()\n",
    "        number_of_pages = pdf.getNumPages()\n",
    "        print(information)\n",
    "        print(pdf.getPage(0))"
   ]
  }
 ],
 "metadata": {
  "interpreter": {
   "hash": "b0fa6594d8f4cbf19f97940f81e996739fb7646882a419484c72d19e05852a7e"
  },
  "kernelspec": {
   "display_name": "Python 3.9.9 64-bit",
   "language": "python",
   "name": "python3"
  },
  "language_info": {
   "codemirror_mode": {
    "name": "ipython",
    "version": 3
   },
   "file_extension": ".py",
   "mimetype": "text/x-python",
   "name": "python",
   "nbconvert_exporter": "python",
   "pygments_lexer": "ipython3",
   "version": "3.9.9"
  },
  "orig_nbformat": 4
 },
 "nbformat": 4,
 "nbformat_minor": 2
}
